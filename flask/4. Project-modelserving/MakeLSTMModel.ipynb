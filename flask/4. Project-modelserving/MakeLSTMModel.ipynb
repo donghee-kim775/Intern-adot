{
 "cells": [
  {
   "cell_type": "markdown",
   "id": "daacb0a4",
   "metadata": {},
   "source": [
    "# Library"
   ]
  },
  {
   "cell_type": "code",
   "execution_count": 2,
   "id": "ca737091",
   "metadata": {
    "scrolled": true
   },
   "outputs": [
    {
     "name": "stderr",
     "output_type": "stream",
     "text": [
      "Using TensorFlow backend.\n"
     ]
    }
   ],
   "source": [
    "import pandas as pd\n",
    "import numpy as np\n",
    "import matplotlib.pyplot as plt\n",
    "from keras.models import Sequential\n",
    "from keras.layers import LSTM, Dropout, Dense, Activation\n",
    "import datetime"
   ]
  },
  {
   "cell_type": "markdown",
   "id": "008a9ffd",
   "metadata": {},
   "source": [
    "# Data Load"
   ]
  },
  {
   "cell_type": "code",
   "execution_count": 4,
   "id": "02f9e2fb",
   "metadata": {
    "scrolled": false
   },
   "outputs": [
    {
     "data": {
      "text/html": [
       "<div>\n",
       "<style scoped>\n",
       "    .dataframe tbody tr th:only-of-type {\n",
       "        vertical-align: middle;\n",
       "    }\n",
       "\n",
       "    .dataframe tbody tr th {\n",
       "        vertical-align: top;\n",
       "    }\n",
       "\n",
       "    .dataframe thead th {\n",
       "        text-align: right;\n",
       "    }\n",
       "</style>\n",
       "<table border=\"1\" class=\"dataframe\">\n",
       "  <thead>\n",
       "    <tr style=\"text-align: right;\">\n",
       "      <th></th>\n",
       "      <th>Date</th>\n",
       "      <th>Open</th>\n",
       "      <th>High</th>\n",
       "      <th>Low</th>\n",
       "      <th>Close</th>\n",
       "      <th>Adj Close</th>\n",
       "      <th>Volume</th>\n",
       "    </tr>\n",
       "  </thead>\n",
       "  <tbody>\n",
       "    <tr>\n",
       "      <th>0</th>\n",
       "      <td>2018-02-08</td>\n",
       "      <td>22.887333</td>\n",
       "      <td>23.241333</td>\n",
       "      <td>20.973333</td>\n",
       "      <td>21.015333</td>\n",
       "      <td>21.015333</td>\n",
       "      <td>154719000</td>\n",
       "    </tr>\n",
       "    <tr>\n",
       "      <th>1</th>\n",
       "      <td>2018-02-09</td>\n",
       "      <td>21.328667</td>\n",
       "      <td>21.398666</td>\n",
       "      <td>19.650667</td>\n",
       "      <td>20.694668</td>\n",
       "      <td>20.694668</td>\n",
       "      <td>194005500</td>\n",
       "    </tr>\n",
       "    <tr>\n",
       "      <th>2</th>\n",
       "      <td>2018-02-12</td>\n",
       "      <td>21.075333</td>\n",
       "      <td>21.205334</td>\n",
       "      <td>20.416668</td>\n",
       "      <td>21.048668</td>\n",
       "      <td>21.048668</td>\n",
       "      <td>93417000</td>\n",
       "    </tr>\n",
       "    <tr>\n",
       "      <th>3</th>\n",
       "      <td>2018-02-13</td>\n",
       "      <td>21.001333</td>\n",
       "      <td>21.612667</td>\n",
       "      <td>20.834000</td>\n",
       "      <td>21.577333</td>\n",
       "      <td>21.577333</td>\n",
       "      <td>68403000</td>\n",
       "    </tr>\n",
       "    <tr>\n",
       "      <th>4</th>\n",
       "      <td>2018-02-14</td>\n",
       "      <td>21.389334</td>\n",
       "      <td>21.744667</td>\n",
       "      <td>21.234667</td>\n",
       "      <td>21.487333</td>\n",
       "      <td>21.487333</td>\n",
       "      <td>59260500</td>\n",
       "    </tr>\n",
       "  </tbody>\n",
       "</table>\n",
       "</div>"
      ],
      "text/plain": [
       "         Date       Open       High        Low      Close  Adj Close  \\\n",
       "0  2018-02-08  22.887333  23.241333  20.973333  21.015333  21.015333   \n",
       "1  2018-02-09  21.328667  21.398666  19.650667  20.694668  20.694668   \n",
       "2  2018-02-12  21.075333  21.205334  20.416668  21.048668  21.048668   \n",
       "3  2018-02-13  21.001333  21.612667  20.834000  21.577333  21.577333   \n",
       "4  2018-02-14  21.389334  21.744667  21.234667  21.487333  21.487333   \n",
       "\n",
       "      Volume  \n",
       "0  154719000  \n",
       "1  194005500  \n",
       "2   93417000  \n",
       "3   68403000  \n",
       "4   59260500  "
      ]
     },
     "execution_count": 4,
     "metadata": {},
     "output_type": "execute_result"
    }
   ],
   "source": [
    "data = pd.read_csv(\"C:/Users/Galaxy/Desktop/csv/TSLA.csv\")\n",
    "\n",
    "data.head()"
   ]
  },
  {
   "cell_type": "code",
   "execution_count": 5,
   "id": "da4277d9",
   "metadata": {},
   "outputs": [
    {
     "data": {
      "text/html": [
       "<div>\n",
       "<style scoped>\n",
       "    .dataframe tbody tr th:only-of-type {\n",
       "        vertical-align: middle;\n",
       "    }\n",
       "\n",
       "    .dataframe tbody tr th {\n",
       "        vertical-align: top;\n",
       "    }\n",
       "\n",
       "    .dataframe thead th {\n",
       "        text-align: right;\n",
       "    }\n",
       "</style>\n",
       "<table border=\"1\" class=\"dataframe\">\n",
       "  <thead>\n",
       "    <tr style=\"text-align: right;\">\n",
       "      <th></th>\n",
       "      <th>Date</th>\n",
       "      <th>Open</th>\n",
       "      <th>High</th>\n",
       "      <th>Low</th>\n",
       "      <th>Close</th>\n",
       "      <th>Adj Close</th>\n",
       "      <th>Volume</th>\n",
       "    </tr>\n",
       "  </thead>\n",
       "  <tbody>\n",
       "    <tr>\n",
       "      <th>1252</th>\n",
       "      <td>2023-01-31</td>\n",
       "      <td>164.570007</td>\n",
       "      <td>174.300003</td>\n",
       "      <td>162.779999</td>\n",
       "      <td>173.220001</td>\n",
       "      <td>173.220001</td>\n",
       "      <td>196813500</td>\n",
       "    </tr>\n",
       "    <tr>\n",
       "      <th>1253</th>\n",
       "      <td>2023-02-01</td>\n",
       "      <td>173.889999</td>\n",
       "      <td>183.809998</td>\n",
       "      <td>169.929993</td>\n",
       "      <td>181.410004</td>\n",
       "      <td>181.410004</td>\n",
       "      <td>213806300</td>\n",
       "    </tr>\n",
       "    <tr>\n",
       "      <th>1254</th>\n",
       "      <td>2023-02-02</td>\n",
       "      <td>187.330002</td>\n",
       "      <td>196.750000</td>\n",
       "      <td>182.610001</td>\n",
       "      <td>188.270004</td>\n",
       "      <td>188.270004</td>\n",
       "      <td>217448300</td>\n",
       "    </tr>\n",
       "    <tr>\n",
       "      <th>1255</th>\n",
       "      <td>2023-02-03</td>\n",
       "      <td>183.949997</td>\n",
       "      <td>199.000000</td>\n",
       "      <td>183.690002</td>\n",
       "      <td>189.979996</td>\n",
       "      <td>189.979996</td>\n",
       "      <td>231684200</td>\n",
       "    </tr>\n",
       "    <tr>\n",
       "      <th>1256</th>\n",
       "      <td>2023-02-06</td>\n",
       "      <td>193.009995</td>\n",
       "      <td>198.169998</td>\n",
       "      <td>189.919998</td>\n",
       "      <td>194.759995</td>\n",
       "      <td>194.759995</td>\n",
       "      <td>186188100</td>\n",
       "    </tr>\n",
       "  </tbody>\n",
       "</table>\n",
       "</div>"
      ],
      "text/plain": [
       "            Date        Open        High         Low       Close   Adj Close  \\\n",
       "1252  2023-01-31  164.570007  174.300003  162.779999  173.220001  173.220001   \n",
       "1253  2023-02-01  173.889999  183.809998  169.929993  181.410004  181.410004   \n",
       "1254  2023-02-02  187.330002  196.750000  182.610001  188.270004  188.270004   \n",
       "1255  2023-02-03  183.949997  199.000000  183.690002  189.979996  189.979996   \n",
       "1256  2023-02-06  193.009995  198.169998  189.919998  194.759995  194.759995   \n",
       "\n",
       "         Volume  \n",
       "1252  196813500  \n",
       "1253  213806300  \n",
       "1254  217448300  \n",
       "1255  231684200  \n",
       "1256  186188100  "
      ]
     },
     "execution_count": 5,
     "metadata": {},
     "output_type": "execute_result"
    }
   ],
   "source": [
    "data.tail()"
   ]
  },
  {
   "cell_type": "markdown",
   "id": "90c3fa4b",
   "metadata": {},
   "source": [
    "# Compute Mid Price\n",
    "\n",
    "## - 최고가와 최저가의 중간가격으로 예측하기 위한 설정"
   ]
  },
  {
   "cell_type": "code",
   "execution_count": 7,
   "id": "6fcb8fd9",
   "metadata": {},
   "outputs": [],
   "source": [
    "high_prices = data['High'].values\n",
    "low_prices = data['Low'].values\n",
    "mid_prices = (high_prices + low_prices) / 2"
   ]
  },
  {
   "cell_type": "markdown",
   "id": "d0ff14ad",
   "metadata": {},
   "source": [
    "# Create Windows\n",
    "## - 최근 50일 간의 데이터를 보고 내일을 예측하기 위한 window설정\n",
    "## - 50개를 보고 1개를 예측하기 때문에, window 에 들어가는 총 데이터의 개수는 51개이다."
   ]
  },
  {
   "cell_type": "code",
   "execution_count": 8,
   "id": "fe33489f",
   "metadata": {},
   "outputs": [],
   "source": [
    "# window size\n",
    "seq_len = 50\n",
    "\n",
    "# 50개보고 1개 예측\n",
    "sequence_length = seq_len + 1\n",
    "\n",
    "result = []\n",
    "\n",
    "for index in range(len(mid_prices) - sequence_length):\n",
    "    result.append(mid_prices[index: index + sequence_length])"
   ]
  },
  {
   "cell_type": "markdown",
   "id": "711359e6",
   "metadata": {},
   "source": [
    "# Normalize Data\n",
    "## - 첫번째 Mid 값을 0으로 잡고 그 비율만큼 나머지 값들을 정해준다.\n",
    "## - window를 싹 훑으면서 각 값을 첫번째 값으로 나눠준 다음에 1을 빼준다.\n",
    "## - 그 후 training data와 test data를 나누어준 후 shuffle"
   ]
  },
  {
   "cell_type": "code",
   "execution_count": 9,
   "id": "8c3dadd0",
   "metadata": {},
   "outputs": [
    {
     "data": {
      "text/plain": [
       "((1085, 50, 1), (121, 50, 1))"
      ]
     },
     "execution_count": 9,
     "metadata": {},
     "output_type": "execute_result"
    }
   ],
   "source": [
    "normalized_data = []\n",
    "\n",
    "for window in result:\n",
    "    normalized_window = [((float(p) / float(window[0])) - 1) for p in window]\n",
    "    normalized_data.append(normalized_window)\n",
    "\n",
    "result = np.array(normalized_data)\n",
    "\n",
    "row = int(round(result.shape[0]*0.9))\n",
    "train = result[:row, :]\n",
    "np.random.shuffle(train)\n",
    "\n",
    "x_train = train[:, :-1]\n",
    "x_train = np.reshape(x_train, (x_train.shape[0], x_train.shape[1], 1))\n",
    "y_train = train[:, -1]\n",
    "\n",
    "x_test = result[row:, :-1]\n",
    "x_test = np.reshape(x_test, (x_test.shape[0], x_test.shape[1], 1))\n",
    "y_test = result[row:, -1]\n",
    "\n",
    "x_train.shape, x_test.shape"
   ]
  },
  {
   "cell_type": "markdown",
   "id": "1f288309",
   "metadata": {},
   "source": [
    "# Build a Model"
   ]
  },
  {
   "cell_type": "code",
   "execution_count": 11,
   "id": "fb3bf8cd",
   "metadata": {},
   "outputs": [
    {
     "name": "stdout",
     "output_type": "stream",
     "text": [
      "Model: \"sequential_2\"\n",
      "_________________________________________________________________\n",
      "Layer (type)                 Output Shape              Param #   \n",
      "=================================================================\n",
      "lstm_1 (LSTM)                (None, 50, 50)            10400     \n",
      "_________________________________________________________________\n",
      "lstm_2 (LSTM)                (None, 64)                29440     \n",
      "_________________________________________________________________\n",
      "dense_1 (Dense)              (None, 1)                 65        \n",
      "=================================================================\n",
      "Total params: 39,905\n",
      "Trainable params: 39,905\n",
      "Non-trainable params: 0\n",
      "_________________________________________________________________\n"
     ]
    }
   ],
   "source": [
    "model = Sequential()\n",
    "model.add(LSTM(50, return_sequences = True, input_shape = (50,1)))\n",
    "model.add(LSTM(64, return_sequences = False))\n",
    "model.add(Dense(1, activation='linear')) # 다음날 하루의 데이터를 예측\n",
    "model.compile(loss='mse', optimizer='rmsprop')\n",
    "model.summary()"
   ]
  },
  {
   "cell_type": "markdown",
   "id": "87b526c6",
   "metadata": {},
   "source": [
    "# Train"
   ]
  },
  {
   "cell_type": "code",
   "execution_count": 12,
   "id": "4ab8b654",
   "metadata": {
    "scrolled": true
   },
   "outputs": [
    {
     "name": "stdout",
     "output_type": "stream",
     "text": [
      "Train on 1085 samples, validate on 121 samples\n",
      "Epoch 1/20\n",
      "1085/1085 [==============================] - 4s 4ms/step - loss: 0.0185 - val_loss: 0.0097\n",
      "Epoch 2/20\n",
      "1085/1085 [==============================] - 3s 3ms/step - loss: 0.0088 - val_loss: 0.0044\n",
      "Epoch 3/20\n",
      "1085/1085 [==============================] - 3s 3ms/step - loss: 0.0076 - val_loss: 0.0035\n",
      "Epoch 4/20\n",
      "1085/1085 [==============================] - 4s 3ms/step - loss: 0.0060 - val_loss: 0.0061\n",
      "Epoch 5/20\n",
      "1085/1085 [==============================] - 3s 3ms/step - loss: 0.0047 - val_loss: 0.0031\n",
      "Epoch 6/20\n",
      "1085/1085 [==============================] - 3s 3ms/step - loss: 0.0041 - val_loss: 0.0017\n",
      "Epoch 7/20\n",
      "1085/1085 [==============================] - 3s 3ms/step - loss: 0.0040 - val_loss: 0.0015\n",
      "Epoch 8/20\n",
      "1085/1085 [==============================] - 3s 3ms/step - loss: 0.0036 - val_loss: 0.0023\n",
      "Epoch 9/20\n",
      "1085/1085 [==============================] - 3s 3ms/step - loss: 0.0032 - val_loss: 0.0018\n",
      "Epoch 10/20\n",
      "1085/1085 [==============================] - 3s 3ms/step - loss: 0.0033 - val_loss: 0.0012\n",
      "Epoch 11/20\n",
      "1085/1085 [==============================] - 3s 3ms/step - loss: 0.0030 - val_loss: 0.0033\n",
      "Epoch 12/20\n",
      "1085/1085 [==============================] - 3s 3ms/step - loss: 0.0032 - val_loss: 0.0020\n",
      "Epoch 13/20\n",
      "1085/1085 [==============================] - 3s 2ms/step - loss: 0.0030 - val_loss: 0.0014\n",
      "Epoch 14/20\n",
      "1085/1085 [==============================] - 3s 2ms/step - loss: 0.0030 - val_loss: 0.0021\n",
      "Epoch 15/20\n",
      "1085/1085 [==============================] - 3s 2ms/step - loss: 0.0028 - val_loss: 0.0011\n",
      "Epoch 16/20\n",
      "1085/1085 [==============================] - 3s 2ms/step - loss: 0.0029 - val_loss: 0.0011\n",
      "Epoch 17/20\n",
      "1085/1085 [==============================] - 3s 2ms/step - loss: 0.0028 - val_loss: 7.9612e-04\n",
      "Epoch 18/20\n",
      "1085/1085 [==============================] - ETA: 0s - loss: 0.003 - 3s 2ms/step - loss: 0.0030 - val_loss: 0.0012\n",
      "Epoch 19/20\n",
      "1085/1085 [==============================] - ETA: 0s - loss: 0.002 - 3s 2ms/step - loss: 0.0028 - val_loss: 0.0012\n",
      "Epoch 20/20\n",
      "1085/1085 [==============================] - 3s 2ms/step - loss: 0.0029 - val_loss: 0.0014\n"
     ]
    },
    {
     "data": {
      "text/plain": [
       "<keras.callbacks.callbacks.History at 0x24d610b1f98>"
      ]
     },
     "execution_count": 12,
     "metadata": {},
     "output_type": "execute_result"
    }
   ],
   "source": [
    "model.fit(x_train, y_train,\n",
    "         validation_data = (x_test, y_test),\n",
    "         batch_size=10,\n",
    "         epochs=20)"
   ]
  },
  {
   "cell_type": "code",
   "execution_count": 14,
   "id": "32378ba5",
   "metadata": {},
   "outputs": [
    {
     "data": {
      "image/png": "[encoded data removed]",
      "text/plain": [
       "<Figure size 432x288 with 1 Axes>"
      ]
     },
     "metadata": {},
     "output_type": "display_data"
    }
   ],
   "source": [
    "pred = model.predict(x_test)\n",
    "\n",
    "fig = plt.figure(facecolor='white')\n",
    "ax = fig.add_subplot(111)\n",
    "ax.plot(y_test, label='True')\n",
    "ax.plot(pred, label='Prediction')\n",
    "ax.legend()\n",
    "plt.show()"
   ]
  },
  {
   "cell_type": "markdown",
   "id": "4cc305ff",
   "metadata": {},
   "source": [
    "# Save Model"
   ]
  },
  {
   "cell_type": "code",
   "execution_count": 13,
   "id": "e5bddb3a",
   "metadata": {},
   "outputs": [],
   "source": [
    "model.save('lstmstock.h5')"
   ]
  }
 ],
 "metadata": {
  "kernelspec": {
   "display_name": "Python 3",
   "language": "python",
   "name": "python3"
  },
  "language_info": {
   "codemirror_mode": {
    "name": "ipython",
    "version": 3
   },
   "file_extension": ".py",
   "mimetype": "text/x-python",
   "name": "python",
   "nbconvert_exporter": "python",
   "pygments_lexer": "ipython3",
   "version": "3.6.13"
  }
 },
 "nbformat": 4,
 "nbformat_minor": 5
}
